{
 "cells": [
  {
   "cell_type": "raw",
   "metadata": {},
   "source": [
    "Перечень полей:\n",
    "• state – штат;\n",
    "• account length – абонентский стаж;\n",
    "• area code – код региона;\n",
    "• phone number – номер телефона;\n",
    "• international plan – тарифный план для международных звонков;\n",
    "• voice mail plan – тарифный план для голосовой почты;\n",
    "• number vmail messages – количество сообщений голосовой почты;\n",
    "• total day minutes – общая длительность звонков в дневное время (мин);\n",
    "• total day calls – общее количество звонков в дневное время;\n",
    "• total day charge – общая стоимость звонков в дневное время;\n",
    "• total eve minutes – общая длительность звонков в вечернее время (мин);\n",
    "• total eve calls – общее количество звонков в вечернее время;\n",
    "• total eve charge – общая стоимость звонков в вечернее время;\n",
    "• total night minutes – общая длительность звонков в ночное время (мин);\n",
    "• total night calls – общее количество звонков в ночное время;\n",
    "• total night charge – общая стоимость звонков в ночное время;\n",
    "• total intl minutes – общая длительность международных звонков (мин);\n",
    "• total intl calls – общее количество международных звонков;\n",
    "• total intl charge – общая стоимость международных звонков;\n",
    "• number customer service calls – количество звонков в службу поддержки.\n",
    "• churned – покинул ли клиент компанию"
   ]
  },
  {
   "cell_type": "code",
   "execution_count": 114,
   "metadata": {},
   "outputs": [],
   "source": [
    "import numpy as np\n",
    "import matplotlib.pyplot as plt\n",
    "from scipy import stats\n",
    "import pandas as pd\n",
    "import io\n",
    "import requests\n",
    "import seaborn as sns\n",
    "import statistics\n",
    "from scipy.stats import pearsonr\n",
    "from sklearn.preprocessing import StandardScaler\n",
    "from sklearn.model_selection import train_test_split\n",
    "from sklearn.linear_model import LogisticRegression\n",
    "from sklearn.tree import DecisionTreeClassifier\n",
    "from sklearn.svm import  SVC\n",
    "%matplotlib inline"
   ]
  },
  {
   "cell_type": "code",
   "execution_count": 3,
   "metadata": {},
   "outputs": [
    {
     "data": {
      "text/html": [
       "<div>\n",
       "<style scoped>\n",
       "    .dataframe tbody tr th:only-of-type {\n",
       "        vertical-align: middle;\n",
       "    }\n",
       "\n",
       "    .dataframe tbody tr th {\n",
       "        vertical-align: top;\n",
       "    }\n",
       "\n",
       "    .dataframe thead th {\n",
       "        text-align: right;\n",
       "    }\n",
       "</style>\n",
       "<table border=\"1\" class=\"dataframe\">\n",
       "  <thead>\n",
       "    <tr style=\"text-align: right;\">\n",
       "      <th></th>\n",
       "      <th>state</th>\n",
       "      <th>account_length</th>\n",
       "      <th>area_code</th>\n",
       "      <th>phone_number</th>\n",
       "      <th>international_plan</th>\n",
       "      <th>voice_mail_plan</th>\n",
       "      <th>number_vmail_messages</th>\n",
       "      <th>total_day_minutes</th>\n",
       "      <th>total_day_calls</th>\n",
       "      <th>total_day_charge</th>\n",
       "      <th>...</th>\n",
       "      <th>total_eve_calls</th>\n",
       "      <th>total_eve_charge</th>\n",
       "      <th>total_night_minutes</th>\n",
       "      <th>total_night_calls</th>\n",
       "      <th>total_night_charge</th>\n",
       "      <th>total_intl_minutes</th>\n",
       "      <th>total_intl_calls</th>\n",
       "      <th>total_intl_charge</th>\n",
       "      <th>number_customer_service_calls</th>\n",
       "      <th>churned</th>\n",
       "    </tr>\n",
       "  </thead>\n",
       "  <tbody>\n",
       "    <tr>\n",
       "      <th>0</th>\n",
       "      <td>KS</td>\n",
       "      <td>128</td>\n",
       "      <td>415</td>\n",
       "      <td>382-4657</td>\n",
       "      <td>no</td>\n",
       "      <td>yes</td>\n",
       "      <td>25</td>\n",
       "      <td>265.1</td>\n",
       "      <td>110</td>\n",
       "      <td>45.07</td>\n",
       "      <td>...</td>\n",
       "      <td>99</td>\n",
       "      <td>16.78</td>\n",
       "      <td>244.7</td>\n",
       "      <td>91</td>\n",
       "      <td>11.01</td>\n",
       "      <td>10.0</td>\n",
       "      <td>3</td>\n",
       "      <td>2.70</td>\n",
       "      <td>1</td>\n",
       "      <td>False</td>\n",
       "    </tr>\n",
       "    <tr>\n",
       "      <th>1</th>\n",
       "      <td>OH</td>\n",
       "      <td>107</td>\n",
       "      <td>415</td>\n",
       "      <td>371-7191</td>\n",
       "      <td>no</td>\n",
       "      <td>yes</td>\n",
       "      <td>26</td>\n",
       "      <td>161.6</td>\n",
       "      <td>123</td>\n",
       "      <td>27.47</td>\n",
       "      <td>...</td>\n",
       "      <td>103</td>\n",
       "      <td>16.62</td>\n",
       "      <td>254.4</td>\n",
       "      <td>103</td>\n",
       "      <td>11.45</td>\n",
       "      <td>13.7</td>\n",
       "      <td>3</td>\n",
       "      <td>3.70</td>\n",
       "      <td>1</td>\n",
       "      <td>False</td>\n",
       "    </tr>\n",
       "    <tr>\n",
       "      <th>2</th>\n",
       "      <td>NJ</td>\n",
       "      <td>137</td>\n",
       "      <td>415</td>\n",
       "      <td>358-1921</td>\n",
       "      <td>no</td>\n",
       "      <td>no</td>\n",
       "      <td>0</td>\n",
       "      <td>243.4</td>\n",
       "      <td>114</td>\n",
       "      <td>41.38</td>\n",
       "      <td>...</td>\n",
       "      <td>110</td>\n",
       "      <td>10.30</td>\n",
       "      <td>162.6</td>\n",
       "      <td>104</td>\n",
       "      <td>7.32</td>\n",
       "      <td>12.2</td>\n",
       "      <td>5</td>\n",
       "      <td>3.29</td>\n",
       "      <td>0</td>\n",
       "      <td>False</td>\n",
       "    </tr>\n",
       "    <tr>\n",
       "      <th>3</th>\n",
       "      <td>OH</td>\n",
       "      <td>84</td>\n",
       "      <td>408</td>\n",
       "      <td>375-9999</td>\n",
       "      <td>yes</td>\n",
       "      <td>no</td>\n",
       "      <td>0</td>\n",
       "      <td>299.4</td>\n",
       "      <td>71</td>\n",
       "      <td>50.90</td>\n",
       "      <td>...</td>\n",
       "      <td>88</td>\n",
       "      <td>5.26</td>\n",
       "      <td>196.9</td>\n",
       "      <td>89</td>\n",
       "      <td>8.86</td>\n",
       "      <td>6.6</td>\n",
       "      <td>7</td>\n",
       "      <td>1.78</td>\n",
       "      <td>2</td>\n",
       "      <td>False</td>\n",
       "    </tr>\n",
       "    <tr>\n",
       "      <th>4</th>\n",
       "      <td>OK</td>\n",
       "      <td>75</td>\n",
       "      <td>415</td>\n",
       "      <td>330-6626</td>\n",
       "      <td>yes</td>\n",
       "      <td>no</td>\n",
       "      <td>0</td>\n",
       "      <td>166.7</td>\n",
       "      <td>113</td>\n",
       "      <td>28.34</td>\n",
       "      <td>...</td>\n",
       "      <td>122</td>\n",
       "      <td>12.61</td>\n",
       "      <td>186.9</td>\n",
       "      <td>121</td>\n",
       "      <td>8.41</td>\n",
       "      <td>10.1</td>\n",
       "      <td>3</td>\n",
       "      <td>2.73</td>\n",
       "      <td>3</td>\n",
       "      <td>False</td>\n",
       "    </tr>\n",
       "  </tbody>\n",
       "</table>\n",
       "<p>5 rows × 21 columns</p>\n",
       "</div>"
      ],
      "text/plain": [
       "  state  account_length  area_code phone_number international_plan  \\\n",
       "0    KS             128        415     382-4657                 no   \n",
       "1    OH             107        415     371-7191                 no   \n",
       "2    NJ             137        415     358-1921                 no   \n",
       "3    OH              84        408     375-9999                yes   \n",
       "4    OK              75        415     330-6626                yes   \n",
       "\n",
       "  voice_mail_plan  number_vmail_messages  total_day_minutes  total_day_calls  \\\n",
       "0             yes                     25              265.1              110   \n",
       "1             yes                     26              161.6              123   \n",
       "2              no                      0              243.4              114   \n",
       "3              no                      0              299.4               71   \n",
       "4              no                      0              166.7              113   \n",
       "\n",
       "   total_day_charge  ...  total_eve_calls  total_eve_charge  \\\n",
       "0             45.07  ...               99             16.78   \n",
       "1             27.47  ...              103             16.62   \n",
       "2             41.38  ...              110             10.30   \n",
       "3             50.90  ...               88              5.26   \n",
       "4             28.34  ...              122             12.61   \n",
       "\n",
       "   total_night_minutes  total_night_calls  total_night_charge  \\\n",
       "0                244.7                 91               11.01   \n",
       "1                254.4                103               11.45   \n",
       "2                162.6                104                7.32   \n",
       "3                196.9                 89                8.86   \n",
       "4                186.9                121                8.41   \n",
       "\n",
       "   total_intl_minutes  total_intl_calls  total_intl_charge  \\\n",
       "0                10.0                 3               2.70   \n",
       "1                13.7                 3               3.70   \n",
       "2                12.2                 5               3.29   \n",
       "3                 6.6                 7               1.78   \n",
       "4                10.1                 3               2.73   \n",
       "\n",
       "   number_customer_service_calls  churned  \n",
       "0                              1    False  \n",
       "1                              1    False  \n",
       "2                              0    False  \n",
       "3                              2    False  \n",
       "4                              3    False  \n",
       "\n",
       "[5 rows x 21 columns]"
      ]
     },
     "execution_count": 3,
     "metadata": {},
     "output_type": "execute_result"
    }
   ],
   "source": [
    "df = pd.read_csv('churn.csv')\n",
    "df.head()"
   ]
  },
  {
   "cell_type": "markdown",
   "metadata": {},
   "source": [
    "#### 1. Построить гистограмму количества звонков в техническую поддержку "
   ]
  },
  {
   "cell_type": "code",
   "execution_count": 36,
   "metadata": {},
   "outputs": [
    {
     "data": {
      "image/png": "[encoded data removed]",
      "text/plain": [
       "<Figure size 432x288 with 1 Axes>"
      ]
     },
     "metadata": {
      "needs_background": "light"
     },
     "output_type": "display_data"
    }
   ],
   "source": [
    "plt.hist(df['number_customer_service_calls'], 10)\n",
    "plt.grid(True)\n",
    "plt.title('Histogram')\n",
    "plt.xlabel('number_customer_service_calls')\n",
    "plt.ylabel('frequency')\n",
    "plt.show()"
   ]
  },
  {
   "cell_type": "markdown",
   "metadata": {},
   "source": [
    "#### 2. Рассчитать и построить гистограмму общей длительности звонков клиента (дневных + ночных + вечерних + международных)"
   ]
  },
  {
   "cell_type": "code",
   "execution_count": 30,
   "metadata": {},
   "outputs": [],
   "source": [
    "df['all_minutes'] = df['total_day_minutes'] + df['total_eve_minutes'] + df['total_night_minutes'] + df['total_intl_minutes']"
   ]
  },
  {
   "cell_type": "code",
   "execution_count": 37,
   "metadata": {},
   "outputs": [
    {
     "data": {
      "image/png": "[encoded data removed]",
      "text/plain": [
       "<Figure size 432x288 with 1 Axes>"
      ]
     },
     "metadata": {
      "needs_background": "light"
     },
     "output_type": "display_data"
    }
   ],
   "source": [
    "plt.hist(df['all_minutes'], 10, facecolor='g')\n",
    "plt.grid(True)\n",
    "plt.title('Histogram')\n",
    "plt.xlabel('Total number of minutes')\n",
    "plt.ylabel('Frequency')\n",
    "plt.show()"
   ]
  },
  {
   "cell_type": "markdown",
   "metadata": {},
   "source": [
    "#### 3.Собственноручно (не используя встроенных функций) рассчитать линейный коэффициент корреляции (https://ru.wikipedia.org/wiki/Корреляция) общего количества минут и количества звонков в техподдержку"
   ]
  },
  {
   "cell_type": "code",
   "execution_count": 47,
   "metadata": {},
   "outputs": [
    {
     "name": "stdout",
     "output_type": "stream",
     "text": [
      "-0.011\n"
     ]
    }
   ],
   "source": [
    "X = df['all_minutes']\n",
    "Y = df['number_customer_service_calls']\n",
    "n = len(X)\n",
    "m_x = sum(X) / n\n",
    "m_y = sum(Y) / n\n",
    "stdev_x = (sum([(i - m_x)**2 for i in X]) / n)**0.5\n",
    "stdev_y = (sum([(i - m_y)**2 for i in Y]) / n)**0.5\n",
    "covariance = sum([(X[i] - m_x) * (Y[i] -m_y) for i in range(n)])\n",
    "pearson_coefficient = covariance / (n * stdev_x * stdev_y)\n",
    "print(round(pearson_coefficient, 3))"
   ]
  },
  {
   "cell_type": "markdown",
   "metadata": {},
   "source": [
    "##### Проверка:"
   ]
  },
  {
   "cell_type": "code",
   "execution_count": 85,
   "metadata": {},
   "outputs": [
    {
     "name": "stdout",
     "output_type": "stream",
     "text": [
      "Коэффициент корреляции Пирсона: -0.011407910827441406\n"
     ]
    },
    {
     "data": {
      "image/png": "[encoded data removed]",
      "text/plain": [
       "<Figure size 432x288 with 1 Axes>"
      ]
     },
     "metadata": {
      "needs_background": "light"
     },
     "output_type": "display_data"
    }
   ],
   "source": [
    "corr, p_value = pearsonr(X, Y)\n",
    "plt.scatter(X, Y, marker='.', color= 'r')\n",
    "print('Коэффициент корреляции Пирсона:', corr)"
   ]
  },
  {
   "cell_type": "markdown",
   "metadata": {},
   "source": [
    "#### 4. Визуализировать точечный график по общему количеству минут / количеству звонков в поддержку, подкрасив точки в зависимости от оттока абонента"
   ]
  },
  {
   "cell_type": "code",
   "execution_count": 89,
   "metadata": {},
   "outputs": [
    {
     "data": {
      "image/png": "[encoded data removed]",
      "text/plain": [
       "<Figure size 432x288 with 1 Axes>"
      ]
     },
     "metadata": {
      "needs_background": "light"
     },
     "output_type": "display_data"
    }
   ],
   "source": [
    "# Клиент остался в компании\n",
    "x = df[(df.churned == False)]['all_minutes']\n",
    "y = df[(df.churned == False)]['number_customer_service_calls']\n",
    "plt.scatter(x, y, marker='.',color='y')\n",
    "plt.xlabel('Total number of minutes')\n",
    "plt.ylabel('Number of customer service calls')\n",
    "\n",
    "# Клиент покинул компанию\n",
    "x = df[(df.churned == True)]['all_minutes']\n",
    "y = df[(df.churned == True)]['number_customer_service_calls']\n",
    "plt.scatter(x, y, marker='.',color='k')\n",
    "plt.xlabel('Total number of minutes')\n",
    "plt.ylabel('Number of customer service calls')\n",
    "plt.show()"
   ]
  },
  {
   "cell_type": "markdown",
   "metadata": {},
   "source": [
    "#### 5. Вывести top-5 самых много и самых мало говорящих клиентов"
   ]
  },
  {
   "cell_type": "code",
   "execution_count": 92,
   "metadata": {},
   "outputs": [
    {
     "data": {
      "text/html": [
       "<div>\n",
       "<style scoped>\n",
       "    .dataframe tbody tr th:only-of-type {\n",
       "        vertical-align: middle;\n",
       "    }\n",
       "\n",
       "    .dataframe tbody tr th {\n",
       "        vertical-align: top;\n",
       "    }\n",
       "\n",
       "    .dataframe thead th {\n",
       "        text-align: right;\n",
       "    }\n",
       "</style>\n",
       "<table border=\"1\" class=\"dataframe\">\n",
       "  <thead>\n",
       "    <tr style=\"text-align: right;\">\n",
       "      <th></th>\n",
       "      <th>all_minutes</th>\n",
       "    </tr>\n",
       "    <tr>\n",
       "      <th>phone_number</th>\n",
       "      <th></th>\n",
       "    </tr>\n",
       "  </thead>\n",
       "  <tbody>\n",
       "    <tr>\n",
       "      <th>345-9140</th>\n",
       "      <td>885.0</td>\n",
       "    </tr>\n",
       "    <tr>\n",
       "      <th>352-6976</th>\n",
       "      <td>882.2</td>\n",
       "    </tr>\n",
       "    <tr>\n",
       "      <th>345-3787</th>\n",
       "      <td>860.2</td>\n",
       "    </tr>\n",
       "    <tr>\n",
       "      <th>410-3888</th>\n",
       "      <td>858.2</td>\n",
       "    </tr>\n",
       "    <tr>\n",
       "      <th>370-4667</th>\n",
       "      <td>857.4</td>\n",
       "    </tr>\n",
       "  </tbody>\n",
       "</table>\n",
       "</div>"
      ],
      "text/plain": [
       "              all_minutes\n",
       "phone_number             \n",
       "345-9140            885.0\n",
       "352-6976            882.2\n",
       "345-3787            860.2\n",
       "410-3888            858.2\n",
       "370-4667            857.4"
      ]
     },
     "execution_count": 92,
     "metadata": {},
     "output_type": "execute_result"
    }
   ],
   "source": [
    "Max_top = df.groupby('phone_number')[['all_minutes']].sum()\\\n",
    "    .sort_values('all_minutes', ascending=False).head(5)\n",
    "Max_top"
   ]
  },
  {
   "cell_type": "code",
   "execution_count": 93,
   "metadata": {},
   "outputs": [
    {
     "data": {
      "text/html": [
       "<div>\n",
       "<style scoped>\n",
       "    .dataframe tbody tr th:only-of-type {\n",
       "        vertical-align: middle;\n",
       "    }\n",
       "\n",
       "    .dataframe tbody tr th {\n",
       "        vertical-align: top;\n",
       "    }\n",
       "\n",
       "    .dataframe thead th {\n",
       "        text-align: right;\n",
       "    }\n",
       "</style>\n",
       "<table border=\"1\" class=\"dataframe\">\n",
       "  <thead>\n",
       "    <tr style=\"text-align: right;\">\n",
       "      <th></th>\n",
       "      <th>all_minutes</th>\n",
       "    </tr>\n",
       "    <tr>\n",
       "      <th>phone_number</th>\n",
       "      <th></th>\n",
       "    </tr>\n",
       "  </thead>\n",
       "  <tbody>\n",
       "    <tr>\n",
       "      <th>375-8934</th>\n",
       "      <td>313.3</td>\n",
       "    </tr>\n",
       "    <tr>\n",
       "      <th>405-9233</th>\n",
       "      <td>313.0</td>\n",
       "    </tr>\n",
       "    <tr>\n",
       "      <th>362-8044</th>\n",
       "      <td>303.2</td>\n",
       "    </tr>\n",
       "    <tr>\n",
       "      <th>380-5246</th>\n",
       "      <td>301.5</td>\n",
       "    </tr>\n",
       "    <tr>\n",
       "      <th>331-3174</th>\n",
       "      <td>284.3</td>\n",
       "    </tr>\n",
       "  </tbody>\n",
       "</table>\n",
       "</div>"
      ],
      "text/plain": [
       "              all_minutes\n",
       "phone_number             \n",
       "375-8934            313.3\n",
       "405-9233            313.0\n",
       "362-8044            303.2\n",
       "380-5246            301.5\n",
       "331-3174            284.3"
      ]
     },
     "execution_count": 93,
     "metadata": {},
     "output_type": "execute_result"
    }
   ],
   "source": [
    "Min_top = df.groupby('phone_number')[['all_minutes']].sum()\\\n",
    "    .sort_values('all_minutes', ascending=False).tail(5)\n",
    "Min_top"
   ]
  },
  {
   "cell_type": "markdown",
   "metadata": {},
   "source": [
    "#### 6. Вывести долю оттока клиентов и среднюю стоимость минуты дневного времени разговора в зависимости от штата"
   ]
  },
  {
   "cell_type": "code",
   "execution_count": 101,
   "metadata": {},
   "outputs": [
    {
     "name": "stdout",
     "output_type": "stream",
     "text": [
      "NC:\tОтток клиентов:  13.186813186813188 % \n",
      "\tСредняя стоимость минуты дневного времени разговора: 5.88247962440689 \n",
      "\n",
      "MO:\tОтток клиентов:  12.903225806451612 % \n",
      "\tСредняя стоимость минуты дневного времени разговора: 5.882092171802528 \n",
      "\n",
      "DE:\tОтток клиентов:  15.957446808510639 % \n",
      "\tСредняя стоимость минуты дневного времени разговора: 5.882174649471953 \n",
      "\n",
      "OH:\tОтток клиентов:  12.931034482758621 % \n",
      "\tСредняя стоимость минуты дневного времени разговора: 5.882074380386846 \n",
      "\n",
      "OR:\tОтток клиентов:  15.789473684210526 % \n",
      "\tСредняя стоимость минуты дневного времени разговора: 5.882042045146291 \n",
      "\n",
      "DC:\tОтток клиентов:  10.227272727272728 % \n",
      "\tСредняя стоимость минуты дневного времени разговора: 5.882056548769627 \n",
      "\n",
      "IN:\tОтток клиентов:  14.285714285714285 % \n",
      "\tСредняя стоимость минуты дневного времени разговора: 5.882368730324359 \n",
      "\n",
      "TN:\tОтток клиентов:  15.730337078651685 % \n",
      "\tСредняя стоимость минуты дневного времени разговора: 5.8821966188216575 \n",
      "\n",
      "FL:\tОтток клиентов:  13.333333333333334 % \n",
      "\tСредняя стоимость минуты дневного времени разговора: 5.882308448889017 \n",
      "\n",
      "NH:\tОтток клиентов:  12.631578947368421 % \n",
      "\tСредняя стоимость минуты дневного времени разговора: 5.882204467955354 \n",
      "\n",
      "MA:\tОтток клиентов:  16.50485436893204 % \n",
      "\tСредняя стоимость минуты дневного времени разговора: 5.882364814562752 \n",
      "\n",
      "AK:\tОтток клиентов:  6.944444444444445 % \n",
      "\tСредняя стоимость минуты дневного времени разговора: 5.882300379592248 \n",
      "\n",
      "LA:\tОтток клиентов:  8.536585365853659 % \n",
      "\tСредняя стоимость минуты дневного времени разговора: 5.882206026279146 \n",
      "\n",
      "CA:\tОтток клиентов:  26.923076923076923 % \n",
      "\tСредняя стоимость минуты дневного времени разговора: 5.882232069345985 \n",
      "\n",
      "OK:\tОтток клиентов:  17.77777777777778 % \n",
      "\tСредняя стоимость минуты дневного времени разговора: 5.882621266455478 \n",
      "\n",
      "MI:\tОтток клиентов:  17.475728155339805 % \n",
      "\tСредняя стоимость минуты дневного времени разговора: 5.882257666995782 \n",
      "\n",
      "ND:\tОтток клиентов:  11.363636363636363 % \n",
      "\tСредняя стоимость минуты дневного времени разговора: 5.882107433638188 \n",
      "\n",
      "ID:\tОтток клиентов:  11.76470588235294 % \n",
      "\tСредняя стоимость минуты дневного времени разговора: 5.882239365363155 \n",
      "\n",
      "VT:\tОтток клиентов:  9.900990099009901 % \n",
      "\tСредняя стоимость минуты дневного времени разговора: nan \n",
      "\n",
      "NE:\tОтток клиентов:  6.8181818181818175 % \n",
      "\tСредняя стоимость минуты дневного времени разговора: 5.882252522193042 \n",
      "\n",
      "ME:\tОтток клиентов:  18.446601941747574 % \n",
      "\tСредняя стоимость минуты дневного времени разговора: 5.882118957633023 \n",
      "\n",
      "NJ:\tОтток клиентов:  25.0 % \n",
      "\tСредняя стоимость минуты дневного времени разговора: 5.882321140510802 \n",
      "\n",
      "IL:\tОтток клиентов:  7.954545454545454 % \n",
      "\tСредняя стоимость минуты дневного времени разговора: 5.882222520461389 \n",
      "\n",
      "AL:\tОтток клиентов:  10.483870967741936 % \n",
      "\tСредняя стоимость минуты дневного времени разговора: 5.882306886943272 \n",
      "\n",
      "KS:\tОтток клиентов:  18.181818181818183 % \n",
      "\tСредняя стоимость минуты дневного времени разговора: 5.882256614740531 \n",
      "\n",
      "MD:\tОтток клиентов:  20.588235294117645 % \n",
      "\tСредняя стоимость минуты дневного времени разговора: 5.882233181391869 \n",
      "\n",
      "SD:\tОтток клиентов:  14.117647058823529 % \n",
      "\tСредняя стоимость минуты дневного времени разговора: nan \n",
      "\n",
      "CT:\tОтток клиентов:  16.161616161616163 % \n",
      "\tСредняя стоимость минуты дневного времени разговора: 5.882295627575001 \n",
      "\n",
      "TX:\tОтток клиентов:  22.413793103448278 % \n",
      "\tСредняя стоимость минуты дневного времени разговора: 5.882253369022192 \n",
      "\n",
      "MN:\tОтток клиентов:  16.0 % \n",
      "\tСредняя стоимость минуты дневного времени разговора: 5.882197242406439 \n",
      "\n",
      "PA:\tОтток клиентов:  10.38961038961039 % \n",
      "\tСредняя стоимость минуты дневного времени разговора: 5.882241191476624 \n",
      "\n",
      "NM:\tОтток клиентов:  10.989010989010989 % \n",
      "\tСредняя стоимость минуты дневного времени разговора: 5.88229867912705 \n",
      "\n",
      "VA:\tОтток клиентов:  5.084745762711865 % \n",
      "\tСредняя стоимость минуты дневного времени разговора: 5.882253352425479 \n",
      "\n",
      "MS:\tОтток клиентов:  17.17171717171717 % \n",
      "\tСредняя стоимость минуты дневного времени разговора: 5.882220421276362 \n",
      "\n",
      "NY:\tОтток клиентов:  17.543859649122805 % \n",
      "\tСредняя стоимость минуты дневного времени разговора: 5.882226174852966 \n",
      "\n",
      "GA:\tОтток клиентов:  12.048192771084338 % \n",
      "\tСредняя стоимость минуты дневного времени разговора: 5.882254301795718 \n",
      "\n",
      "RI:\tОтток клиентов:  7.07070707070707 % \n",
      "\tСредняя стоимость минуты дневного времени разговора: 5.8821977073719305 \n",
      "\n",
      "CO:\tОтток клиентов:  11.458333333333332 % \n",
      "\tСредняя стоимость минуты дневного времени разговора: 5.8822666877314616 \n",
      "\n",
      "WI:\tОтток клиентов:  7.547169811320755 % \n",
      "\tСредняя стоимость минуты дневного времени разговора: 5.88239802976838 \n",
      "\n",
      "IA:\tОтток клиентов:  11.594202898550725 % \n",
      "\tСредняя стоимость минуты дневного времени разговора: 5.882060812012251 \n",
      "\n",
      "NV:\tОтток клиентов:  18.88888888888889 % \n",
      "\tСредняя стоимость минуты дневного времени разговора: 5.882250442493118 \n",
      "\n",
      "WA:\tОтток клиентов:  24.489795918367346 % \n",
      "\tСредняя стоимость минуты дневного времени разговора: 5.882295117153955 \n",
      "\n",
      "UT:\tОтток клиентов:  14.285714285714285 % \n",
      "\tСредняя стоимость минуты дневного времени разговора: 5.88227837942326 \n",
      "\n",
      "KY:\tОтток клиентов:  15.151515151515152 % \n",
      "\tСредняя стоимость минуты дневного времени разговора: 5.882075868201109 \n",
      "\n",
      "HI:\tОтток клиентов:  5.813953488372093 % \n",
      "\tСредняя стоимость минуты дневного времени разговора: 5.882364760301386 \n",
      "\n",
      "WV:\tОтток клиентов:  13.924050632911392 % \n",
      "\tСредняя стоимость минуты дневного времени разговора: 5.882181770443847 \n",
      "\n",
      "SC:\tОтток клиентов:  17.582417582417584 % \n",
      "\tСредняя стоимость минуты дневного времени разговора: 5.88207945556178 \n",
      "\n",
      "MT:\tОтток клиентов:  21.21212121212121 % \n",
      "\tСредняя стоимость минуты дневного времени разговора: 5.882333027748264 \n",
      "\n",
      "WY:\tОтток клиентов:  9.565217391304348 % \n",
      "\tСредняя стоимость минуты дневного времени разговора: 5.882239936593007 \n",
      "\n",
      "AR:\tОтток клиентов:  17.391304347826086 % \n",
      "\tСредняя стоимость минуты дневного времени разговора: 5.882259856280462 \n",
      "\n",
      "AZ:\tОтток клиентов:  10.112359550561797 % \n",
      "\tСредняя стоимость минуты дневного времени разговора: 5.882288117669897 \n",
      "\n"
     ]
    }
   ],
   "source": [
    "states = list(set(df.state))\n",
    "for state in states:\n",
    "    print(state+':\\tОтток клиентов: ',df[ (df.churned == True) & (df.state == state)].count().values[0]/df[df.state == state].count().values[7]*100,'%',\n",
    "          '\\n\\tСредняя стоимость минуты дневного времени разговора:',sum(df[ (df.state == state)].total_day_minutes/df[ (df.state == state)].total_day_charge)/df[df.state == state].count().values[0],'\\n')"
   ]
  },
  {
   "cell_type": "markdown",
   "metadata": {},
   "source": [
    "#### 7. Перевести штат в one-hot формат при помощи pandas-функции get_dummies или удалите колонку, если вы делаете решение на pyspark"
   ]
  },
  {
   "cell_type": "code",
   "execution_count": 102,
   "metadata": {},
   "outputs": [
    {
     "data": {
      "text/html": [
       "<div>\n",
       "<style scoped>\n",
       "    .dataframe tbody tr th:only-of-type {\n",
       "        vertical-align: middle;\n",
       "    }\n",
       "\n",
       "    .dataframe tbody tr th {\n",
       "        vertical-align: top;\n",
       "    }\n",
       "\n",
       "    .dataframe thead th {\n",
       "        text-align: right;\n",
       "    }\n",
       "</style>\n",
       "<table border=\"1\" class=\"dataframe\">\n",
       "  <thead>\n",
       "    <tr style=\"text-align: right;\">\n",
       "      <th></th>\n",
       "      <th>account_length</th>\n",
       "      <th>area_code</th>\n",
       "      <th>phone_number</th>\n",
       "      <th>international_plan</th>\n",
       "      <th>voice_mail_plan</th>\n",
       "      <th>number_vmail_messages</th>\n",
       "      <th>total_day_minutes</th>\n",
       "      <th>total_day_calls</th>\n",
       "      <th>total_day_charge</th>\n",
       "      <th>total_eve_minutes</th>\n",
       "      <th>...</th>\n",
       "      <th>state_SD</th>\n",
       "      <th>state_TN</th>\n",
       "      <th>state_TX</th>\n",
       "      <th>state_UT</th>\n",
       "      <th>state_VA</th>\n",
       "      <th>state_VT</th>\n",
       "      <th>state_WA</th>\n",
       "      <th>state_WI</th>\n",
       "      <th>state_WV</th>\n",
       "      <th>state_WY</th>\n",
       "    </tr>\n",
       "  </thead>\n",
       "  <tbody>\n",
       "    <tr>\n",
       "      <th>0</th>\n",
       "      <td>128</td>\n",
       "      <td>415</td>\n",
       "      <td>382-4657</td>\n",
       "      <td>no</td>\n",
       "      <td>yes</td>\n",
       "      <td>25</td>\n",
       "      <td>265.1</td>\n",
       "      <td>110</td>\n",
       "      <td>45.07</td>\n",
       "      <td>197.4</td>\n",
       "      <td>...</td>\n",
       "      <td>0</td>\n",
       "      <td>0</td>\n",
       "      <td>0</td>\n",
       "      <td>0</td>\n",
       "      <td>0</td>\n",
       "      <td>0</td>\n",
       "      <td>0</td>\n",
       "      <td>0</td>\n",
       "      <td>0</td>\n",
       "      <td>0</td>\n",
       "    </tr>\n",
       "    <tr>\n",
       "      <th>1</th>\n",
       "      <td>107</td>\n",
       "      <td>415</td>\n",
       "      <td>371-7191</td>\n",
       "      <td>no</td>\n",
       "      <td>yes</td>\n",
       "      <td>26</td>\n",
       "      <td>161.6</td>\n",
       "      <td>123</td>\n",
       "      <td>27.47</td>\n",
       "      <td>195.5</td>\n",
       "      <td>...</td>\n",
       "      <td>0</td>\n",
       "      <td>0</td>\n",
       "      <td>0</td>\n",
       "      <td>0</td>\n",
       "      <td>0</td>\n",
       "      <td>0</td>\n",
       "      <td>0</td>\n",
       "      <td>0</td>\n",
       "      <td>0</td>\n",
       "      <td>0</td>\n",
       "    </tr>\n",
       "    <tr>\n",
       "      <th>2</th>\n",
       "      <td>137</td>\n",
       "      <td>415</td>\n",
       "      <td>358-1921</td>\n",
       "      <td>no</td>\n",
       "      <td>no</td>\n",
       "      <td>0</td>\n",
       "      <td>243.4</td>\n",
       "      <td>114</td>\n",
       "      <td>41.38</td>\n",
       "      <td>121.2</td>\n",
       "      <td>...</td>\n",
       "      <td>0</td>\n",
       "      <td>0</td>\n",
       "      <td>0</td>\n",
       "      <td>0</td>\n",
       "      <td>0</td>\n",
       "      <td>0</td>\n",
       "      <td>0</td>\n",
       "      <td>0</td>\n",
       "      <td>0</td>\n",
       "      <td>0</td>\n",
       "    </tr>\n",
       "    <tr>\n",
       "      <th>3</th>\n",
       "      <td>84</td>\n",
       "      <td>408</td>\n",
       "      <td>375-9999</td>\n",
       "      <td>yes</td>\n",
       "      <td>no</td>\n",
       "      <td>0</td>\n",
       "      <td>299.4</td>\n",
       "      <td>71</td>\n",
       "      <td>50.90</td>\n",
       "      <td>61.9</td>\n",
       "      <td>...</td>\n",
       "      <td>0</td>\n",
       "      <td>0</td>\n",
       "      <td>0</td>\n",
       "      <td>0</td>\n",
       "      <td>0</td>\n",
       "      <td>0</td>\n",
       "      <td>0</td>\n",
       "      <td>0</td>\n",
       "      <td>0</td>\n",
       "      <td>0</td>\n",
       "    </tr>\n",
       "    <tr>\n",
       "      <th>4</th>\n",
       "      <td>75</td>\n",
       "      <td>415</td>\n",
       "      <td>330-6626</td>\n",
       "      <td>yes</td>\n",
       "      <td>no</td>\n",
       "      <td>0</td>\n",
       "      <td>166.7</td>\n",
       "      <td>113</td>\n",
       "      <td>28.34</td>\n",
       "      <td>148.3</td>\n",
       "      <td>...</td>\n",
       "      <td>0</td>\n",
       "      <td>0</td>\n",
       "      <td>0</td>\n",
       "      <td>0</td>\n",
       "      <td>0</td>\n",
       "      <td>0</td>\n",
       "      <td>0</td>\n",
       "      <td>0</td>\n",
       "      <td>0</td>\n",
       "      <td>0</td>\n",
       "    </tr>\n",
       "  </tbody>\n",
       "</table>\n",
       "<p>5 rows × 72 columns</p>\n",
       "</div>"
      ],
      "text/plain": [
       "   account_length  area_code phone_number international_plan voice_mail_plan  \\\n",
       "0             128        415     382-4657                 no             yes   \n",
       "1             107        415     371-7191                 no             yes   \n",
       "2             137        415     358-1921                 no              no   \n",
       "3              84        408     375-9999                yes              no   \n",
       "4              75        415     330-6626                yes              no   \n",
       "\n",
       "   number_vmail_messages  total_day_minutes  total_day_calls  \\\n",
       "0                     25              265.1              110   \n",
       "1                     26              161.6              123   \n",
       "2                      0              243.4              114   \n",
       "3                      0              299.4               71   \n",
       "4                      0              166.7              113   \n",
       "\n",
       "   total_day_charge  total_eve_minutes  ...  state_SD  state_TN  state_TX  \\\n",
       "0             45.07              197.4  ...         0         0         0   \n",
       "1             27.47              195.5  ...         0         0         0   \n",
       "2             41.38              121.2  ...         0         0         0   \n",
       "3             50.90               61.9  ...         0         0         0   \n",
       "4             28.34              148.3  ...         0         0         0   \n",
       "\n",
       "   state_UT  state_VA  state_VT  state_WA  state_WI  state_WV  state_WY  \n",
       "0         0         0         0         0         0         0         0  \n",
       "1         0         0         0         0         0         0         0  \n",
       "2         0         0         0         0         0         0         0  \n",
       "3         0         0         0         0         0         0         0  \n",
       "4         0         0         0         0         0         0         0  \n",
       "\n",
       "[5 rows x 72 columns]"
      ]
     },
     "execution_count": 102,
     "metadata": {},
     "output_type": "execute_result"
    }
   ],
   "source": [
    "pd.get_dummies(df, columns=[\"state\"]).head()"
   ]
  },
  {
   "cell_type": "markdown",
   "metadata": {},
   "source": [
    "#### 8. Разбить данные на множество для обучения и для проверки, отобрав признаки для обучения модели классификации (убрать номер телефона, код региона, признаки планов + все добавленные аттрибуты)"
   ]
  },
  {
   "cell_type": "code",
   "execution_count": 108,
   "metadata": {},
   "outputs": [
    {
     "data": {
      "text/html": [
       "<div>\n",
       "<style scoped>\n",
       "    .dataframe tbody tr th:only-of-type {\n",
       "        vertical-align: middle;\n",
       "    }\n",
       "\n",
       "    .dataframe tbody tr th {\n",
       "        vertical-align: top;\n",
       "    }\n",
       "\n",
       "    .dataframe thead th {\n",
       "        text-align: right;\n",
       "    }\n",
       "</style>\n",
       "<table border=\"1\" class=\"dataframe\">\n",
       "  <thead>\n",
       "    <tr style=\"text-align: right;\">\n",
       "      <th></th>\n",
       "      <th>number_vmail_messages</th>\n",
       "      <th>total_day_minutes</th>\n",
       "      <th>total_day_calls</th>\n",
       "      <th>total_day_charge</th>\n",
       "      <th>total_eve_minutes</th>\n",
       "      <th>total_eve_calls</th>\n",
       "      <th>total_eve_charge</th>\n",
       "      <th>total_night_minutes</th>\n",
       "      <th>total_night_calls</th>\n",
       "      <th>total_night_charge</th>\n",
       "      <th>total_intl_minutes</th>\n",
       "      <th>total_intl_calls</th>\n",
       "      <th>total_intl_charge</th>\n",
       "      <th>number_customer_service_calls</th>\n",
       "    </tr>\n",
       "  </thead>\n",
       "  <tbody>\n",
       "    <tr>\n",
       "      <th>0</th>\n",
       "      <td>25</td>\n",
       "      <td>265.1</td>\n",
       "      <td>110</td>\n",
       "      <td>45.07</td>\n",
       "      <td>197.4</td>\n",
       "      <td>99</td>\n",
       "      <td>16.78</td>\n",
       "      <td>244.7</td>\n",
       "      <td>91</td>\n",
       "      <td>11.01</td>\n",
       "      <td>10.0</td>\n",
       "      <td>3</td>\n",
       "      <td>2.70</td>\n",
       "      <td>1</td>\n",
       "    </tr>\n",
       "    <tr>\n",
       "      <th>1</th>\n",
       "      <td>26</td>\n",
       "      <td>161.6</td>\n",
       "      <td>123</td>\n",
       "      <td>27.47</td>\n",
       "      <td>195.5</td>\n",
       "      <td>103</td>\n",
       "      <td>16.62</td>\n",
       "      <td>254.4</td>\n",
       "      <td>103</td>\n",
       "      <td>11.45</td>\n",
       "      <td>13.7</td>\n",
       "      <td>3</td>\n",
       "      <td>3.70</td>\n",
       "      <td>1</td>\n",
       "    </tr>\n",
       "    <tr>\n",
       "      <th>2</th>\n",
       "      <td>0</td>\n",
       "      <td>243.4</td>\n",
       "      <td>114</td>\n",
       "      <td>41.38</td>\n",
       "      <td>121.2</td>\n",
       "      <td>110</td>\n",
       "      <td>10.30</td>\n",
       "      <td>162.6</td>\n",
       "      <td>104</td>\n",
       "      <td>7.32</td>\n",
       "      <td>12.2</td>\n",
       "      <td>5</td>\n",
       "      <td>3.29</td>\n",
       "      <td>0</td>\n",
       "    </tr>\n",
       "    <tr>\n",
       "      <th>3</th>\n",
       "      <td>0</td>\n",
       "      <td>299.4</td>\n",
       "      <td>71</td>\n",
       "      <td>50.90</td>\n",
       "      <td>61.9</td>\n",
       "      <td>88</td>\n",
       "      <td>5.26</td>\n",
       "      <td>196.9</td>\n",
       "      <td>89</td>\n",
       "      <td>8.86</td>\n",
       "      <td>6.6</td>\n",
       "      <td>7</td>\n",
       "      <td>1.78</td>\n",
       "      <td>2</td>\n",
       "    </tr>\n",
       "    <tr>\n",
       "      <th>4</th>\n",
       "      <td>0</td>\n",
       "      <td>166.7</td>\n",
       "      <td>113</td>\n",
       "      <td>28.34</td>\n",
       "      <td>148.3</td>\n",
       "      <td>122</td>\n",
       "      <td>12.61</td>\n",
       "      <td>186.9</td>\n",
       "      <td>121</td>\n",
       "      <td>8.41</td>\n",
       "      <td>10.1</td>\n",
       "      <td>3</td>\n",
       "      <td>2.73</td>\n",
       "      <td>3</td>\n",
       "    </tr>\n",
       "  </tbody>\n",
       "</table>\n",
       "</div>"
      ],
      "text/plain": [
       "   number_vmail_messages  total_day_minutes  total_day_calls  \\\n",
       "0                     25              265.1              110   \n",
       "1                     26              161.6              123   \n",
       "2                      0              243.4              114   \n",
       "3                      0              299.4               71   \n",
       "4                      0              166.7              113   \n",
       "\n",
       "   total_day_charge  total_eve_minutes  total_eve_calls  total_eve_charge  \\\n",
       "0             45.07              197.4               99             16.78   \n",
       "1             27.47              195.5              103             16.62   \n",
       "2             41.38              121.2              110             10.30   \n",
       "3             50.90               61.9               88              5.26   \n",
       "4             28.34              148.3              122             12.61   \n",
       "\n",
       "   total_night_minutes  total_night_calls  total_night_charge  \\\n",
       "0                244.7                 91               11.01   \n",
       "1                254.4                103               11.45   \n",
       "2                162.6                104                7.32   \n",
       "3                196.9                 89                8.86   \n",
       "4                186.9                121                8.41   \n",
       "\n",
       "   total_intl_minutes  total_intl_calls  total_intl_charge  \\\n",
       "0                10.0                 3               2.70   \n",
       "1                13.7                 3               3.70   \n",
       "2                12.2                 5               3.29   \n",
       "3                 6.6                 7               1.78   \n",
       "4                10.1                 3               2.73   \n",
       "\n",
       "   number_customer_service_calls  \n",
       "0                              1  \n",
       "1                              1  \n",
       "2                              0  \n",
       "3                              2  \n",
       "4                              3  "
      ]
     },
     "execution_count": 108,
     "metadata": {},
     "output_type": "execute_result"
    }
   ],
   "source": [
    "dat = df[['number_vmail_messages', 'total_day_minutes', 'total_day_calls', 'total_day_charge',           \n",
    "    'total_eve_minutes', 'total_eve_calls', 'total_eve_charge', 'total_night_minutes', 'total_night_calls',\n",
    "    'total_night_charge', 'total_intl_minutes', 'total_intl_calls', 'total_intl_charge', 'number_customer_service_calls']]\n",
    "dat.head()"
   ]
  },
  {
   "cell_type": "code",
   "execution_count": 112,
   "metadata": {},
   "outputs": [],
   "source": [
    "X, y = df[['number_vmail_messages', 'total_day_minutes', 'total_day_calls', 'total_day_charge',           \n",
    "    'total_eve_minutes', 'total_eve_calls', 'total_eve_charge', 'total_night_minutes', 'total_night_calls',\n",
    "    'total_night_charge', 'total_intl_minutes', 'total_intl_calls',\n",
    "    'total_intl_charge', 'number_customer_service_calls']], df['churned']"
   ]
  },
  {
   "cell_type": "code",
   "execution_count": 118,
   "metadata": {},
   "outputs": [],
   "source": [
    "X_train, X_test, y_train, y_test = train_test_split(X, y, test_size=0.2)"
   ]
  },
  {
   "cell_type": "code",
   "execution_count": 119,
   "metadata": {},
   "outputs": [
    {
     "data": {
      "text/html": [
       "<div>\n",
       "<style scoped>\n",
       "    .dataframe tbody tr th:only-of-type {\n",
       "        vertical-align: middle;\n",
       "    }\n",
       "\n",
       "    .dataframe tbody tr th {\n",
       "        vertical-align: top;\n",
       "    }\n",
       "\n",
       "    .dataframe thead th {\n",
       "        text-align: right;\n",
       "    }\n",
       "</style>\n",
       "<table border=\"1\" class=\"dataframe\">\n",
       "  <thead>\n",
       "    <tr style=\"text-align: right;\">\n",
       "      <th></th>\n",
       "      <th>number_vmail_messages</th>\n",
       "      <th>total_day_minutes</th>\n",
       "      <th>total_day_calls</th>\n",
       "      <th>total_day_charge</th>\n",
       "      <th>total_eve_minutes</th>\n",
       "      <th>total_eve_calls</th>\n",
       "      <th>total_eve_charge</th>\n",
       "      <th>total_night_minutes</th>\n",
       "      <th>total_night_calls</th>\n",
       "      <th>total_night_charge</th>\n",
       "      <th>total_intl_minutes</th>\n",
       "      <th>total_intl_calls</th>\n",
       "      <th>total_intl_charge</th>\n",
       "      <th>number_customer_service_calls</th>\n",
       "    </tr>\n",
       "  </thead>\n",
       "  <tbody>\n",
       "    <tr>\n",
       "      <th>1956</th>\n",
       "      <td>30</td>\n",
       "      <td>198.9</td>\n",
       "      <td>87</td>\n",
       "      <td>33.81</td>\n",
       "      <td>207.0</td>\n",
       "      <td>90</td>\n",
       "      <td>17.60</td>\n",
       "      <td>159.8</td>\n",
       "      <td>76</td>\n",
       "      <td>7.19</td>\n",
       "      <td>12.6</td>\n",
       "      <td>4</td>\n",
       "      <td>3.40</td>\n",
       "      <td>3</td>\n",
       "    </tr>\n",
       "    <tr>\n",
       "      <th>4568</th>\n",
       "      <td>0</td>\n",
       "      <td>108.2</td>\n",
       "      <td>92</td>\n",
       "      <td>18.39</td>\n",
       "      <td>214.3</td>\n",
       "      <td>83</td>\n",
       "      <td>18.22</td>\n",
       "      <td>185.5</td>\n",
       "      <td>155</td>\n",
       "      <td>8.35</td>\n",
       "      <td>13.2</td>\n",
       "      <td>11</td>\n",
       "      <td>3.56</td>\n",
       "      <td>4</td>\n",
       "    </tr>\n",
       "    <tr>\n",
       "      <th>1811</th>\n",
       "      <td>0</td>\n",
       "      <td>109.7</td>\n",
       "      <td>148</td>\n",
       "      <td>18.65</td>\n",
       "      <td>223.8</td>\n",
       "      <td>87</td>\n",
       "      <td>19.02</td>\n",
       "      <td>240.3</td>\n",
       "      <td>96</td>\n",
       "      <td>10.81</td>\n",
       "      <td>15.4</td>\n",
       "      <td>8</td>\n",
       "      <td>4.16</td>\n",
       "      <td>3</td>\n",
       "    </tr>\n",
       "    <tr>\n",
       "      <th>4221</th>\n",
       "      <td>0</td>\n",
       "      <td>216.7</td>\n",
       "      <td>91</td>\n",
       "      <td>36.84</td>\n",
       "      <td>233.9</td>\n",
       "      <td>104</td>\n",
       "      <td>19.88</td>\n",
       "      <td>231.1</td>\n",
       "      <td>110</td>\n",
       "      <td>10.40</td>\n",
       "      <td>9.0</td>\n",
       "      <td>4</td>\n",
       "      <td>2.43</td>\n",
       "      <td>1</td>\n",
       "    </tr>\n",
       "    <tr>\n",
       "      <th>1693</th>\n",
       "      <td>27</td>\n",
       "      <td>198.7</td>\n",
       "      <td>127</td>\n",
       "      <td>33.78</td>\n",
       "      <td>249.0</td>\n",
       "      <td>105</td>\n",
       "      <td>21.17</td>\n",
       "      <td>173.2</td>\n",
       "      <td>124</td>\n",
       "      <td>7.79</td>\n",
       "      <td>12.5</td>\n",
       "      <td>5</td>\n",
       "      <td>3.38</td>\n",
       "      <td>1</td>\n",
       "    </tr>\n",
       "  </tbody>\n",
       "</table>\n",
       "</div>"
      ],
      "text/plain": [
       "      number_vmail_messages  total_day_minutes  total_day_calls  \\\n",
       "1956                     30              198.9               87   \n",
       "4568                      0              108.2               92   \n",
       "1811                      0              109.7              148   \n",
       "4221                      0              216.7               91   \n",
       "1693                     27              198.7              127   \n",
       "\n",
       "      total_day_charge  total_eve_minutes  total_eve_calls  total_eve_charge  \\\n",
       "1956             33.81              207.0               90             17.60   \n",
       "4568             18.39              214.3               83             18.22   \n",
       "1811             18.65              223.8               87             19.02   \n",
       "4221             36.84              233.9              104             19.88   \n",
       "1693             33.78              249.0              105             21.17   \n",
       "\n",
       "      total_night_minutes  total_night_calls  total_night_charge  \\\n",
       "1956                159.8                 76                7.19   \n",
       "4568                185.5                155                8.35   \n",
       "1811                240.3                 96               10.81   \n",
       "4221                231.1                110               10.40   \n",
       "1693                173.2                124                7.79   \n",
       "\n",
       "      total_intl_minutes  total_intl_calls  total_intl_charge  \\\n",
       "1956                12.6                 4               3.40   \n",
       "4568                13.2                11               3.56   \n",
       "1811                15.4                 8               4.16   \n",
       "4221                 9.0                 4               2.43   \n",
       "1693                12.5                 5               3.38   \n",
       "\n",
       "      number_customer_service_calls  \n",
       "1956                              3  \n",
       "4568                              4  \n",
       "1811                              3  \n",
       "4221                              1  \n",
       "1693                              1  "
      ]
     },
     "execution_count": 119,
     "metadata": {},
     "output_type": "execute_result"
    }
   ],
   "source": [
    "X_train.head()"
   ]
  },
  {
   "cell_type": "code",
   "execution_count": 120,
   "metadata": {},
   "outputs": [
    {
     "data": {
      "text/plain": [
       "1956    False\n",
       "4568     True\n",
       "1811    False\n",
       "4221    False\n",
       "1693    False\n",
       "Name: churned, dtype: bool"
      ]
     },
     "execution_count": 120,
     "metadata": {},
     "output_type": "execute_result"
    }
   ],
   "source": [
    "y_train.head()"
   ]
  },
  {
   "cell_type": "markdown",
   "metadata": {},
   "source": [
    "#### 9. Привести данные к одному масштабу при помощи StandardScaler в случае Pandas"
   ]
  },
  {
   "cell_type": "code",
   "execution_count": 127,
   "metadata": {},
   "outputs": [],
   "source": [
    "sc = StandardScaler()\n",
    "X_train = sc.fit_transform(X_train)\n",
    "X_test = sc.transform(X_test)"
   ]
  },
  {
   "cell_type": "markdown",
   "metadata": {},
   "source": [
    "#### 10. Обучить какую-нибудь модель классификации и оценить качество (точность) на отложенной выборке"
   ]
  },
  {
   "cell_type": "code",
   "execution_count": 128,
   "metadata": {},
   "outputs": [],
   "source": [
    "logistic = LogisticRegression()"
   ]
  },
  {
   "cell_type": "code",
   "execution_count": 129,
   "metadata": {},
   "outputs": [
    {
     "data": {
      "text/plain": [
       "LogisticRegression()"
      ]
     },
     "execution_count": 129,
     "metadata": {},
     "output_type": "execute_result"
    }
   ],
   "source": [
    "logistic.fit(X_train, y_train)"
   ]
  },
  {
   "cell_type": "code",
   "execution_count": 130,
   "metadata": {},
   "outputs": [
    {
     "data": {
      "text/plain": [
       "DecisionTreeClassifier()"
      ]
     },
     "execution_count": 130,
     "metadata": {},
     "output_type": "execute_result"
    }
   ],
   "source": [
    "tree = DecisionTreeClassifier(criterion='gini')\n",
    "tree.fit(X_train, y_train)"
   ]
  },
  {
   "cell_type": "code",
   "execution_count": 131,
   "metadata": {},
   "outputs": [
    {
     "data": {
      "text/plain": [
       "SVC()"
      ]
     },
     "execution_count": 131,
     "metadata": {},
     "output_type": "execute_result"
    }
   ],
   "source": [
    "svc_model=SVC()\n",
    "svc_model.fit(X_train, y_train)"
   ]
  },
  {
   "cell_type": "code",
   "execution_count": 133,
   "metadata": {},
   "outputs": [],
   "source": [
    "from sklearn.metrics import accuracy_score, precision_score, recall_score, f1_score"
   ]
  },
  {
   "cell_type": "code",
   "execution_count": 134,
   "metadata": {},
   "outputs": [
    {
     "data": {
      "text/plain": [
       "0.859"
      ]
     },
     "execution_count": 134,
     "metadata": {},
     "output_type": "execute_result"
    }
   ],
   "source": [
    "accuracy_score(y_test, logistic.predict(X_test))"
   ]
  },
  {
   "cell_type": "code",
   "execution_count": 137,
   "metadata": {},
   "outputs": [
    {
     "data": {
      "text/plain": [
       "0.5862068965517241"
      ]
     },
     "execution_count": 137,
     "metadata": {},
     "output_type": "execute_result"
    }
   ],
   "source": [
    "precision_score(y_test, logistic.predict(X_test))"
   ]
  },
  {
   "cell_type": "code",
   "execution_count": 138,
   "metadata": {},
   "outputs": [
    {
     "data": {
      "text/plain": [
       "0.11643835616438356"
      ]
     },
     "execution_count": 138,
     "metadata": {},
     "output_type": "execute_result"
    }
   ],
   "source": [
    "recall_score(y_test, logistic.predict(X_test))"
   ]
  },
  {
   "cell_type": "code",
   "execution_count": 139,
   "metadata": {},
   "outputs": [
    {
     "data": {
      "text/plain": [
       "0.19428571428571428"
      ]
     },
     "execution_count": 139,
     "metadata": {},
     "output_type": "execute_result"
    }
   ],
   "source": [
    "f1_score(y_test, logistic.predict(X_test))"
   ]
  },
  {
   "cell_type": "code",
   "execution_count": 140,
   "metadata": {},
   "outputs": [
    {
     "data": {
      "text/plain": [
       "0.854"
      ]
     },
     "execution_count": 140,
     "metadata": {},
     "output_type": "execute_result"
    }
   ],
   "source": [
    "accuracy_score(y_test, tree.predict(X_test))"
   ]
  },
  {
   "cell_type": "code",
   "execution_count": 141,
   "metadata": {},
   "outputs": [
    {
     "data": {
      "text/plain": [
       "0.5"
      ]
     },
     "execution_count": 141,
     "metadata": {},
     "output_type": "execute_result"
    }
   ],
   "source": [
    "precision_score(y_test, tree.predict(X_test))"
   ]
  },
  {
   "cell_type": "code",
   "execution_count": 142,
   "metadata": {},
   "outputs": [
    {
     "data": {
      "text/plain": [
       "0.5616438356164384"
      ]
     },
     "execution_count": 142,
     "metadata": {},
     "output_type": "execute_result"
    }
   ],
   "source": [
    "recall_score(y_test, tree.predict(X_test))"
   ]
  },
  {
   "cell_type": "code",
   "execution_count": 143,
   "metadata": {},
   "outputs": [
    {
     "data": {
      "text/plain": [
       "0.5290322580645161"
      ]
     },
     "execution_count": 143,
     "metadata": {},
     "output_type": "execute_result"
    }
   ],
   "source": [
    "f1_score(y_test, tree.predict(X_test))"
   ]
  },
  {
   "cell_type": "markdown",
   "metadata": {},
   "source": [
    "#### Метрики(SCV)"
   ]
  },
  {
   "cell_type": "code",
   "execution_count": 144,
   "metadata": {},
   "outputs": [
    {
     "data": {
      "text/plain": [
       "0.907"
      ]
     },
     "execution_count": 144,
     "metadata": {},
     "output_type": "execute_result"
    }
   ],
   "source": [
    "accuracy_score(y_test, svc_model.predict(X_test))"
   ]
  },
  {
   "cell_type": "code",
   "execution_count": 145,
   "metadata": {},
   "outputs": [
    {
     "data": {
      "text/plain": [
       "0.8955223880597015"
      ]
     },
     "execution_count": 145,
     "metadata": {},
     "output_type": "execute_result"
    }
   ],
   "source": [
    "precision_score(y_test, svc_model.predict(X_test))"
   ]
  },
  {
   "cell_type": "code",
   "execution_count": 146,
   "metadata": {},
   "outputs": [
    {
     "data": {
      "text/plain": [
       "0.410958904109589"
      ]
     },
     "execution_count": 146,
     "metadata": {},
     "output_type": "execute_result"
    }
   ],
   "source": [
    "recall_score(y_test, svc_model.predict(X_test))"
   ]
  },
  {
   "cell_type": "code",
   "execution_count": 147,
   "metadata": {},
   "outputs": [
    {
     "data": {
      "text/plain": [
       "0.5633802816901409"
      ]
     },
     "execution_count": 147,
     "metadata": {},
     "output_type": "execute_result"
    }
   ],
   "source": [
    "f1_score(y_test, svc_model.predict(X_test))"
   ]
  },
  {
   "cell_type": "code",
   "execution_count": null,
   "metadata": {},
   "outputs": [],
   "source": []
  }
 ],
 "metadata": {
  "kernelspec": {
   "display_name": "Python 3",
   "language": "python",
   "name": "python3"
  },
  "language_info": {
   "codemirror_mode": {
    "name": "ipython",
    "version": 3
   },
   "file_extension": ".py",
   "mimetype": "text/x-python",
   "name": "python",
   "nbconvert_exporter": "python",
   "pygments_lexer": "ipython3",
   "version": "3.8.5"
  }
 },
 "nbformat": 4,
 "nbformat_minor": 4
}
